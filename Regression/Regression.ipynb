{
 "cells": [
  {
   "cell_type": "markdown",
   "metadata": {},
   "source": [
    "# AS4501\n",
    "\n",
    "# Regression\n",
    "\n",
    "# Bibliography: Chapter 8 Ivezic+"
   ]
  },
  {
   "cell_type": "markdown",
   "metadata": {},
   "source": [
    "# Regression:\n",
    "\n",
    "- Finding the relation between a dependent variable $y$ and a set of independent variables $\\bf x$. It describes the expectation value of $y$ given $\\bf x$, $E[y|{\\bf x}]$.\n",
    "\n",
    "- The dependent variable $y$ is also called **response variable**.\n",
    "\n",
    "- The problem is to find the expectation of $y$ given $\\bf x$:\n",
    "\n",
    "$E[y|{\\bf x}] = f({\\bf x}, \\theta) + \\epsilon$\n",
    "\n",
    "where $\\epsilon$ is a random error."
   ]
  },
  {
   "cell_type": "markdown",
   "metadata": {},
   "source": [
    "- Note that we estimate $E[y | {\\bf x}]$, the conditional expectation of $y$ given $\\bf x$, rather than $p(y, {\\bf x})$, the joint distribution of $y$ and $\\bf x$, which is a much harder problem to solve. Regression is a simpler problem: instead of determining the multidimensional pdf, we would like to infer the expectation of $y$ given $\\bf x$."
   ]
  },
  {
   "cell_type": "markdown",
   "metadata": {},
   "source": [
    "- **The goal of regression usually focuses on estimation of the parameters $\\theta$ of the function and their confidence intervals.**"
   ]
  },
  {
   "cell_type": "code",
   "execution_count": null,
   "metadata": {},
   "outputs": [],
   "source": [
    "\n",
    "\n",
    "\n",
    "\n",
    "\n",
    "\n",
    "\n",
    "\n",
    "\n",
    "\n"
   ]
  },
  {
   "cell_type": "markdown",
   "metadata": {},
   "source": [
    "## Metrics:"
   ]
  },
  {
   "cell_type": "markdown",
   "metadata": {},
   "source": [
    "## Mean squared error (MSE)"
   ]
  },
  {
   "cell_type": "markdown",
   "metadata": {},
   "source": [
    "The mean squared error (MSE) or mean squared deviation (MSD) of an estimator measures the average of the squares of the errors:\n",
    "\n",
    "It is defined by (estimation of $y$):\n",
    "\n",
    "## $MSE \\equiv \\frac{1}{n} \\sum_i (y_i - \\hat{y}_i)^2$"
   ]
  },
  {
   "cell_type": "markdown",
   "metadata": {},
   "source": [
    "## Coefficient of determination (R$^2$)"
   ]
  },
  {
   "cell_type": "markdown",
   "metadata": {},
   "source": [
    "It is the proportion of the variance in the dependent variable that is predictable from the independent variable(s).\n",
    "\n",
    "It is defined as:\n",
    "\n",
    "## $R^2 \\equiv 1  - \\frac{SS_{res}}{SS_{tot}}$,\n",
    "\n",
    "where\n",
    "\n",
    "### $ SS_{res} = \\sum_i (y_i - \\hat{y}_i)^2$ \n",
    "\n",
    "and\n",
    "\n",
    "### $ SS_{tot} = \\sum_i (y_i - \\bar{y})^2$"
   ]
  },
  {
   "cell_type": "code",
   "execution_count": null,
   "metadata": {},
   "outputs": [],
   "source": [
    "\n",
    "\n",
    "\n",
    "\n",
    "\n",
    "\n",
    "\n",
    "\n",
    "\n",
    "\n",
    "\n"
   ]
  },
  {
   "cell_type": "markdown",
   "metadata": {},
   "source": [
    "## Variance and bias"
   ]
  },
  {
   "cell_type": "markdown",
   "metadata": {},
   "source": [
    "The variance of an estimator of the parameter $\\theta$ will be:\n",
    "\n",
    "## $Var_{\\hat{\\theta}} = E_{\\hat{\\theta}}\\biggl[ \\bigl(\\hat{\\theta} - E_{\\hat{\\theta}}[\\hat{\\theta}]\\bigr)^2\\biggr]$"
   ]
  },
  {
   "cell_type": "markdown",
   "metadata": {},
   "source": [
    "The bias of an estimator will be: \n",
    "\n",
    "## $Bias_{\\hat{\\theta}} = E_{\\hat{\\theta}} - \\theta$"
   ]
  },
  {
   "cell_type": "markdown",
   "metadata": {},
   "source": [
    "![](BiasVariance.jpeg)"
   ]
  },
  {
   "cell_type": "code",
   "execution_count": null,
   "metadata": {},
   "outputs": [],
   "source": [
    "\n",
    "\n",
    "\n",
    "\n",
    "\n",
    "\n",
    "\n",
    "\n",
    "\n"
   ]
  },
  {
   "cell_type": "markdown",
   "metadata": {},
   "source": [
    "## Relation between MSE, variance and bias\n",
    "\n",
    "Note that when estimating a parameter the MSE equals the variance plus the bias squared\n",
    "\n",
    "![](MSE.svg)"
   ]
  },
  {
   "cell_type": "code",
   "execution_count": null,
   "metadata": {},
   "outputs": [],
   "source": [
    "\n",
    "\n",
    "\n",
    "\n",
    "\n",
    "\n",
    "\n",
    "\n"
   ]
  },
  {
   "cell_type": "markdown",
   "metadata": {},
   "source": [
    "# Linear regression"
   ]
  },
  {
   "cell_type": "markdown",
   "metadata": {},
   "source": [
    "The one dimensional linear regression model is defined by\n",
    "\n",
    "$f(x, \\theta) = \\theta_0 + \\theta_1 x$"
   ]
  },
  {
   "cell_type": "markdown",
   "metadata": {},
   "source": [
    "## Least squares regression for linear regression"
   ]
  },
  {
   "cell_type": "markdown",
   "metadata": {},
   "source": [
    "## Ordinary least squares"
   ]
  },
  {
   "cell_type": "markdown",
   "metadata": {},
   "source": [
    "Minimizes the residual sum of squares (RSS) between the observed response values $y_i$ and the model predictions"
   ]
  },
  {
   "cell_type": "markdown",
   "metadata": {},
   "source": [
    "### $\\min RSS = \\min \\sum\\limits_{i=1}^{n} (y_i - \\theta_0 - \\theta_1 x_i)^2$"
   ]
  },
  {
   "cell_type": "markdown",
   "metadata": {},
   "source": [
    "Differentiating w.r.t. to $\\theta_0$ and $\\theta_1$ and setting these derivatives to zero gives two equations which can be solved to give:\n",
    "\n",
    "\n",
    "\n",
    "## $\\hat{\\theta}_{1, OLS} = \\frac{\\sum\\limits_{i=1}^n (x_i - \\bar{x}) (y_i - \\bar{y})}{\\sum\\limits_{i=1}^n (x_i - \\bar{x})^2} = \\frac{S_{xy}}{S_{xx}}$\n",
    "\n",
    "## $\\hat{\\theta}_{0, OLS} = \\bar{y} - \\hat{\\theta}_{1,OLS} ~\\bar{x}$"
   ]
  },
  {
   "cell_type": "markdown",
   "metadata": {},
   "source": [
    "These estimators are also the maximum likelihood estimator (MLE) when the errors are normally distributed."
   ]
  },
  {
   "cell_type": "markdown",
   "metadata": {},
   "source": [
    "The OLS estimator of the error variance $\\sigma^2$ is:\n",
    "\n",
    "## $\\hat{\\sigma}^2 = S^2 = \\frac{RSS}{n - 2}$"
   ]
  },
  {
   "cell_type": "markdown",
   "metadata": {},
   "source": [
    "If the errors are i.i.d. random variables, the slope and intercept are unbiased and asymptotically normally distributed:\n",
    "\n",
    "## $\\hat{\\theta}_{1, OLS} \\sim N\\biggl(\\theta_1, \\frac{\\sigma^2}{S_{XX}}\\biggr)$\n",
    "\n",
    "## $\\hat{\\theta}_{0, OLS} \\sim N\\biggl(\\theta_0, \\sigma^2 \\biggl(\\frac{1}{n} + \\frac{\\bar{x}^2}{S_{XX}}\\biggr)\\biggr)$"
   ]
  },
  {
   "cell_type": "markdown",
   "metadata": {},
   "source": [
    "If the errors are also normally distributed with zero mean and known variance $\\sigma^2$, then the variance if $\\chi^2$ distributed:\n",
    "\n",
    "\n",
    "## $\\hat{\\sigma}^2 \\sim \\biggl(\\frac{\\sigma^2}{n - 2} \\biggr) \\chi_{n-2}^{2}$"
   ]
  },
  {
   "cell_type": "markdown",
   "metadata": {},
   "source": [
    "However, $\\sigma^2$ is rarely known, and only the sample variance $S^2$ is known, changing the statistical properties of the estimators.\n",
    "\n",
    "Defining:\n",
    "\n",
    "## $ T = \\frac{\\hat{\\theta_1} - \\theta_1}{SE}$\n",
    "\n",
    "where $SE = \\frac{S}{\\sqrt{S_{XX}}}$ is also known as the **standard error**,\n",
    "\n",
    "one can show that $T$ is t distributed with $n-2$ degrees of freedom.\n",
    "\n",
    "Then, the $(1-\\alpha)$ confidence interval for $\\theta_1$ becomes $(\\hat{\\theta}_1 - t_{\\alpha/2, n-2} ~ SE, \\hat{\\theta}_1 + t_{\\alpha/2, n-2} ~ SE)$ and the confidence interval for $y$ at a given $x$ becomes:\n",
    "\n",
    "## $y(x) = \\hat{\\theta}_0 + \\hat{\\theta}_1 x \\pm t_{\\alpha/2, n - 2} ~ S ~ \\sqrt{1 + \\frac{1}{n} \\frac{(x - \\bar{x})^2}{S_{xx}}}$"
   ]
  },
  {
   "cell_type": "code",
   "execution_count": null,
   "metadata": {},
   "outputs": [],
   "source": [
    "\n",
    "\n",
    "\n",
    "\n",
    "\n",
    "\n",
    "\n",
    "\n",
    "\n",
    "\n",
    "\n"
   ]
  },
  {
   "cell_type": "markdown",
   "metadata": {},
   "source": [
    "### Maximum likelihood estimator (MLE)"
   ]
  },
  {
   "cell_type": "markdown",
   "metadata": {},
   "source": [
    "Let us consider the probability of observing $\\lbrace y_i \\rbrace$ given the parameters $\\theta$ and the set of independent variable $\\lbrace x_i \\rbrace$.\n",
    "\n",
    "Here we assume that the observations are Gaussian with standard deviation $\\sigma_i$:\n",
    "\n",
    "## $p(\\lbrace y_i \\rbrace | \\lbrace x_i \\rbrace, \\theta) = \\prod\\limits_{i = 1}^{N} \\frac{1}{\\sqrt{2 \\pi} \\sigma_i} \\exp \\biggl( \\frac{- (y_i - (\\theta_0 + \\theta_1 x_i))^2}{2 \\sigma_i^2} \\biggr)$"
   ]
  },
  {
   "cell_type": "markdown",
   "metadata": {},
   "source": [
    "Thus, we can maximize the log likelihood minus a constant to find the **maximum likelihood estimator (MLE)**\n",
    "\n",
    "## $\\log(L) = \\log p(\\lbrace y_i \\rbrace | \\lbrace x_i \\rbrace, \\theta) = \\sum\\limits_{i = 1}^{N}  \\bigl( \\frac{- (y_i - (\\theta_0 + \\theta_1 x_i))^2}{2 \\sigma_i^2} \\bigr)$"
   ]
  },
  {
   "cell_type": "markdown",
   "metadata": {},
   "source": [
    "which is equivalent to minimizing the RSS"
   ]
  },
  {
   "cell_type": "markdown",
   "metadata": {},
   "source": [
    "Using Bayes theorem $P(A|B) = P(B|A)~\\dfrac{P(A)}{P(B)}$ we can also see that \n",
    "\n",
    "## $P(\\theta | \\lbrace y_i \\rbrace, \\lbrace x_i \\rbrace) = P(\\lbrace y_i \\rbrace | \\lbrace x_i \\rbrace, \\theta) ~ \\frac{p(\\theta)}{p(y_i)}$\n",
    "\n",
    "Therefore, this is also the **maximum a posteriori (MAP)** estimator assuming a flat prior for $\\theta$."
   ]
  },
  {
   "cell_type": "code",
   "execution_count": null,
   "metadata": {},
   "outputs": [],
   "source": [
    "\n",
    "\n",
    "\n",
    "\n",
    "\n",
    "\n",
    "\n",
    "\n"
   ]
  },
  {
   "cell_type": "markdown",
   "metadata": {},
   "source": [
    "## Online estimation\n",
    "\n",
    "This figure illustrates how the uncertainties in the parameters shrink as the number of observations grow.\n",
    "\n",
    "![](OnlineBayesian.png)"
   ]
  },
  {
   "cell_type": "code",
   "execution_count": null,
   "metadata": {},
   "outputs": [],
   "source": [
    "\n",
    "\n",
    "\n",
    "\n",
    "\n"
   ]
  },
  {
   "cell_type": "markdown",
   "metadata": {},
   "source": [
    "### Diabetes dataset example\n",
    "(https://scikit-learn.org/stable/auto_examples/linear_model/plot_ols.html#sphx-glr-auto-examples-linear-model-plot-ols-py)\n",
    "\n"
   ]
  },
  {
   "cell_type": "code",
   "execution_count": 1,
   "metadata": {
    "ExecuteTime": {
     "end_time": "2025-08-12T14:22:15.184823Z",
     "start_time": "2025-08-12T14:22:14.676024Z"
    }
   },
   "outputs": [
    {
     "name": "stdout",
     "output_type": "stream",
     "text": [
      ".. _diabetes_dataset:\n",
      "\n",
      "Diabetes dataset\n",
      "----------------\n",
      "\n",
      "Ten baseline variables, age, sex, body mass index, average blood\n",
      "pressure, and six blood serum measurements were obtained for each of n =\n",
      "442 diabetes patients, as well as the response of interest, a\n",
      "quantitative measure of disease progression one year after baseline.\n",
      "\n",
      "**Data Set Characteristics:**\n",
      "\n",
      "  :Number of Instances: 442\n",
      "\n",
      "  :Number of Attributes: First 10 columns are numeric predictive values\n",
      "\n",
      "  :Target: Column 11 is a quantitative measure of disease progression one year after baseline\n",
      "\n",
      "  :Attribute Information:\n",
      "      - age     age in years\n",
      "      - sex\n",
      "      - bmi     body mass index\n",
      "      - bp      average blood pressure\n",
      "      - s1      tc, total serum cholesterol\n",
      "      - s2      ldl, low-density lipoproteins\n",
      "      - s3      hdl, high-density lipoproteins\n",
      "      - s4      tch, total cholesterol / HDL\n",
      "      - s5      ltg, possibly log of serum triglycerides level\n",
      "      - s6      glu, blood sugar level\n",
      "\n",
      "Note: Each of these 10 feature variables have been mean centered and scaled by the standard deviation times the square root of `n_samples` (i.e. the sum of squares of each column totals 1).\n",
      "\n",
      "Source URL:\n",
      "https://www4.stat.ncsu.edu/~boos/var.select/diabetes.html\n",
      "\n",
      "For more information see:\n",
      "Bradley Efron, Trevor Hastie, Iain Johnstone and Robert Tibshirani (2004) \"Least Angle Regression,\" Annals of Statistics (with discussion), 407-499.\n",
      "(https://web.stanford.edu/~hastie/Papers/LARS/LeastAngle_2002.pdf)\n",
      "\n"
     ]
    }
   ],
   "source": [
    "import matplotlib.pyplot as plt\n",
    "import numpy as np\n",
    "from sklearn import datasets, linear_model\n",
    "from sklearn.metrics import mean_squared_error, r2_score\n",
    "\n",
    "# Load the diabetes dataset\n",
    "diabetes = datasets.load_diabetes()\n",
    "print(diabetes.DESCR)"
   ]
  },
  {
   "cell_type": "code",
   "execution_count": 2,
   "metadata": {
    "ExecuteTime": {
     "end_time": "2025-08-12T14:22:16.056567Z",
     "start_time": "2025-08-12T14:22:16.047846Z"
    }
   },
   "outputs": [
    {
     "name": "stdout",
     "output_type": "stream",
     "text": [
      "Coefficients: \n",
      " [938.23786125]\n",
      "Mean squared error (MSE): 2548.07\n",
      "Variance score (coefficient of determination, R2): 0.47\n"
     ]
    }
   ],
   "source": [
    "# Use only one feature (body mass index)\n",
    "diabetes_X = diabetes.data[:, np.newaxis, 2]\n",
    "\n",
    "# Split the data into training/testing sets\n",
    "diabetes_X_train = diabetes_X[:-20]\n",
    "diabetes_X_test = diabetes_X[-20:]\n",
    "\n",
    "# Split the targets into training/testing sets\n",
    "diabetes_y_train = diabetes.target[:-20]\n",
    "diabetes_y_test = diabetes.target[-20:]\n",
    "\n",
    "# Create linear regression object\n",
    "regr = linear_model.LinearRegression()\n",
    "\n",
    "# Train the model using the training sets\n",
    "regr.fit(diabetes_X_train, diabetes_y_train)\n",
    "\n",
    "# Make predictions using the testing set\n",
    "diabetes_y_pred = regr.predict(diabetes_X_test)\n",
    "\n",
    "# The coefficients\n",
    "print('Coefficients: \\n', regr.coef_)\n",
    "# The mean squared error\n",
    "print(\"Mean squared error (MSE): %.2f\"\n",
    "      % mean_squared_error(diabetes_y_test, diabetes_y_pred))\n",
    "# Explained variance score: 1 is perfect prediction\n",
    "print('Variance score (coefficient of determination, R2): %.2f' % r2_score(diabetes_y_test, diabetes_y_pred))"
   ]
  },
  {
   "cell_type": "code",
   "execution_count": 3,
   "metadata": {
    "ExecuteTime": {
     "end_time": "2025-08-12T14:22:17.042095Z",
     "start_time": "2025-08-12T14:22:16.874055Z"
    }
   },
   "outputs": [
    {
     "data": {
      "text/plain": [
       "Text(0, 0.5, 'Diabetes disease progression')"
      ]
     },
     "execution_count": 3,
     "metadata": {},
     "output_type": "execute_result"
    },
    {
     "data": {
      "image/png": "[encoded data removed]",
      "text/plain": [
       "<Figure size 1008x720 with 1 Axes>"
      ]
     },
     "metadata": {
      "needs_background": "light"
     },
     "output_type": "display_data"
    }
   ],
   "source": [
    "fig, ax = plt.subplots(figsize = (14, 10))\n",
    "\n",
    "ax.scatter(diabetes_X_test, diabetes_y_test,  c = 'k')\n",
    "ax.scatter(diabetes_X_train, diabetes_y_train, c = 'gray', alpha = 0.3)\n",
    "ax.plot(diabetes_X_test, diabetes_y_pred, color='blue', linewidth=3)\n",
    "ax.set_xlabel(\"BMI (scaled)\")\n",
    "ax.set_ylabel(\"Diabetes disease progression\")"
   ]
  },
  {
   "cell_type": "code",
   "execution_count": null,
   "metadata": {},
   "outputs": [],
   "source": [
    "\n",
    "\n",
    "\n",
    "\n",
    "\n",
    "\n",
    "\n",
    "\n",
    "\n"
   ]
  },
  {
   "cell_type": "markdown",
   "metadata": {},
   "source": [
    "## Least squares in matrix form"
   ]
  },
  {
   "cell_type": "markdown",
   "metadata": {},
   "source": [
    "The previous equations can be derived in matrix form\n",
    "\n",
    "In general one can define regression in terms of a design matrix $M$:\n",
    "\n",
    "## $y = {\\bf M} ~ \\theta$\n",
    "\n",
    "where $y$ is the $N$--dimensional vector of values $y_i$.\n",
    "\n",
    "## $y = \\begin{bmatrix} y_0 \\\\ y_1 \\\\ . \\\\ y_{N-1} \\end{bmatrix}$\n",
    "\n",
    "For straight--line regression, $\\theta$ is a two--dimensional vector:\n",
    "\n",
    "## $\\theta = \\begin{bmatrix} \\theta_0 \\\\ \\theta_1 \\end{bmatrix}$\n",
    "\n",
    "and $M$ is a $2 \\times N$ matrix:\n",
    "\n",
    "## ${\\bf M} = \\begin{bmatrix} 1 & x_0 \\\\ 1 & x_1 \\\\ ... & ... \\\\ 1 & x_{N-1} \\\\ \\end{bmatrix}$"
   ]
  },
  {
   "cell_type": "markdown",
   "metadata": {},
   "source": [
    "For the case of heteroscedastic uncertainties, we can define the covariance matrix $C$:\n",
    "\n",
    "## $ C = \\begin{bmatrix} \\sigma_0^2 & 0 & . & 0 \\\\ 0 & \\sigma_1^2 & . & 0 \\\\ . & . & . & . \\\\ 0 & 0 & . & \\sigma_{N - 1}^2\\\\ \\end{bmatrix}$"
   ]
  },
  {
   "cell_type": "markdown",
   "metadata": {},
   "source": [
    "The MLE solution for this regression is:\n",
    "\n",
    "## ${\\bf \\hat{\\theta}} = ({\\bf M}^T C^{-1} {\\bf M})^{-1} ({\\bf M}^T C^{-1} {\\bf y})$"
   ]
  },
  {
   "cell_type": "markdown",
   "metadata": {},
   "source": [
    "which is the also the solution that minimizes the equation\n",
    "\n",
    "## $({\\bf y} - {\\bf M} ~ \\theta)^{-1} C^{-1} ({\\bf y} -  {\\bf M} ~ \\theta)$"
   ]
  },
  {
   "cell_type": "markdown",
   "metadata": {},
   "source": [
    "The uncertainties on the regression coefficients $\\bf \\theta$ can be expressed as the following matrix (general case):\n",
    "\n",
    "## $\\Sigma_\\theta = \\begin{bmatrix} \\sigma_{\\theta_0}^2 & \\dots & \\sigma_{\\theta_0 \\theta_i} & \\dots \\\\ \\vdots & \\ddots & \\vdots & \\vdots \\\\ \\sigma_{\\theta_0 \\theta_i} & \\dots & \\sigma_{\\theta_i}^2 \\\\  \\vdots & \\vdots & \\vdots & \\ddots \\\\ \\end{bmatrix} = [{\\bf M}^T C^{-1} {\\bf M}]^{-1}$"
   ]
  },
  {
   "cell_type": "markdown",
   "metadata": {},
   "source": [
    "In the general case, $C$ can be non--diagonal too, which indicates correlated noise."
   ]
  },
  {
   "cell_type": "code",
   "execution_count": null,
   "metadata": {},
   "outputs": [],
   "source": [
    "\n",
    "\n",
    "\n",
    "\n",
    "\n",
    "\n",
    "\n",
    "\n",
    "\n",
    "\n",
    "\n"
   ]
  },
  {
   "cell_type": "markdown",
   "metadata": {},
   "source": [
    "## Polynomial regression"
   ]
  },
  {
   "cell_type": "markdown",
   "metadata": {},
   "source": [
    "Let us consider the case where we perform a polynomial representation of the data, e.g.:\n",
    "\n",
    "## $y_i = \\theta_0 + \\theta_1 x_i + \\theta_2 x_i^2 + \\theta_3 x_i^3$"
   ]
  },
  {
   "cell_type": "markdown",
   "metadata": {},
   "source": [
    "In this case the design matrix $M$ becomes:\n",
    "\n",
    "## $ M = \\begin{bmatrix}\n",
    "1 & x_0 & x_0^2 & x_0^3 \\\\\n",
    "1 & x_1 & x_1^2 & x_1^3 \\\\\n",
    ". & . & . & . \\\\\n",
    "1 & x_N & x_N^2 & x_N^3 \\\\\n",
    "\\end{bmatrix}$"
   ]
  },
  {
   "cell_type": "markdown",
   "metadata": {},
   "source": [
    "And the previous formulae can be used to find the least squares solution since the coefficients are linear"
   ]
  },
  {
   "cell_type": "code",
   "execution_count": null,
   "metadata": {},
   "outputs": [],
   "source": [
    "\n",
    "\n",
    "\n",
    "\n",
    "\n",
    "\n",
    "\n",
    "\n"
   ]
  },
  {
   "cell_type": "markdown",
   "metadata": {},
   "source": [
    "## Regularization"
   ]
  },
  {
   "cell_type": "markdown",
   "metadata": {},
   "source": [
    "Sometimes we may want to trade an increase in bias for a reduction in variance (e.g. if the matrix $M$ is ill-conditioned the variance could be very large)"
   ]
  },
  {
   "cell_type": "markdown",
   "metadata": {},
   "source": [
    "## Ridge regression"
   ]
  },
  {
   "cell_type": "markdown",
   "metadata": {},
   "source": [
    "In this case we include the following regularization term in the least squares equation:\n",
    "\n",
    "## $({\\bf y} - M~ \\theta)^{-1} C^{-1}({\\bf y} - M~ \\theta) + \\lambda~ |\\theta^T \\theta|$"
   ]
  },
  {
   "cell_type": "markdown",
   "metadata": {},
   "source": [
    "$\\lambda$ is called the **regularization or smoothing parameter** and **$|\\theta^T \\theta|$** is called the **penalty function**"
   ]
  },
  {
   "cell_type": "markdown",
   "metadata": {},
   "source": [
    "It can be shown that the new solution will be:\n",
    "\n",
    "## ${\\bf \\hat{\\theta}} = ({\\bf M}^T C^{-1} {\\bf M} + \\lambda I)^{-1} ({\\bf M}^T C^{-1} {\\bf y})$"
   ]
  },
  {
   "cell_type": "markdown",
   "metadata": {},
   "source": [
    "It is worth noting that even if $M^T C^{-1} M$ were singular, $M^T C^{-1} M + \\lambda I$ may not be singular"
   ]
  },
  {
   "cell_type": "markdown",
   "metadata": {},
   "source": [
    "### Bayes equivalent\n",
    "\n",
    "In the Bayesian approach, it can be shown that the MAP solution is the same as the ridge solution if we assume a Gaussian prior for the parameters $\\theta$:\n",
    "\n",
    "\n",
    "## $ p(\\theta) \\propto \\exp \\biggl( \\frac{- \\lambda (\\theta^T \\theta)}{2} \\biggr)$"
   ]
  },
  {
   "cell_type": "markdown",
   "metadata": {},
   "source": [
    "Ridge regression effectively constrains the norm of the parameters $\\theta$:\n",
    "\n",
    "## $|{\\bf \\theta}|^2 < s$"
   ]
  },
  {
   "cell_type": "code",
   "execution_count": null,
   "metadata": {},
   "outputs": [],
   "source": [
    "\n",
    "\n",
    "\n",
    "\n",
    "\n",
    "\n",
    "\n",
    "\n"
   ]
  },
  {
   "cell_type": "markdown",
   "metadata": {},
   "source": [
    "## LASSO regression"
   ]
  },
  {
   "cell_type": "markdown",
   "metadata": {},
   "source": [
    "Another common regularization technique"
   ]
  },
  {
   "cell_type": "markdown",
   "metadata": {},
   "source": [
    "In this case we include a different regularization term in the least squares equation:\n",
    "\n",
    "## $({\\bf y} - \\theta {\\bf X})^{-1}({\\bf y} - \\theta {\\bf X}) + \\lambda |\\theta|$"
   ]
  },
  {
   "cell_type": "markdown",
   "metadata": {},
   "source": [
    "Now we use the $\\ell_1$ norm instead of the $\\ell_2$ norm."
   ]
  },
  {
   "cell_type": "markdown",
   "metadata": {},
   "source": [
    "In this case there is no closed form, but it can be shown that the MAP solution is the same if an exponential prior for the parameters $\\theta$ is assumed."
   ]
  },
  {
   "cell_type": "markdown",
   "metadata": {},
   "source": [
    "LASSO regression effectively constrains the $\\ell_1$ norm of the parameters $\\theta$:\n",
    "\n",
    "## $|{\\bf \\theta}| < s$"
   ]
  },
  {
   "cell_type": "markdown",
   "metadata": {},
   "source": [
    "\n",
    "\n",
    "\n",
    "\n",
    "\n",
    "\n",
    "\n"
   ]
  },
  {
   "cell_type": "code",
   "execution_count": null,
   "metadata": {},
   "outputs": [],
   "source": [
    "\n",
    "\n",
    "\n",
    "\n",
    "\n",
    "\n",
    "\n",
    "\n",
    "\n",
    "\n"
   ]
  },
  {
   "cell_type": "markdown",
   "metadata": {},
   "source": [
    "### Understanding Ridge and LASSO regression"
   ]
  },
  {
   "cell_type": "markdown",
   "metadata": {},
   "source": [
    "![](RidgeLasso.png)"
   ]
  },
  {
   "cell_type": "code",
   "execution_count": null,
   "metadata": {},
   "outputs": [],
   "source": [
    "\n",
    "\n",
    "\n",
    "\n",
    "\n",
    "\n"
   ]
  },
  {
   "cell_type": "markdown",
   "metadata": {},
   "source": [
    "# Comparison between ordinary, ridge and LASSO regression"
   ]
  },
  {
   "cell_type": "code",
   "execution_count": 4,
   "metadata": {
    "ExecuteTime": {
     "end_time": "2025-08-12T14:26:47.869581Z",
     "start_time": "2025-08-12T14:26:47.410237Z"
    }
   },
   "outputs": [
    {
     "data": {
      "image/png": "[encoded data removed]",
      "text/plain": [
       "<Figure size 288x216 with 1 Axes>"
      ]
     },
     "metadata": {
      "needs_background": "light"
     },
     "output_type": "display_data"
    },
    {
     "data": {
      "image/png": "[encoded data removed]",
      "text/plain": [
       "<Figure size 288x216 with 1 Axes>"
      ]
     },
     "metadata": {
      "needs_background": "light"
     },
     "output_type": "display_data"
    },
    {
     "data": {
      "image/png": "[encoded data removed]",
      "text/plain": [
       "<Figure size 288x216 with 1 Axes>"
      ]
     },
     "metadata": {
      "needs_background": "light"
     },
     "output_type": "display_data"
    }
   ],
   "source": [
    "from sklearn import linear_model\n",
    "\n",
    "X_train = np.c_[.5, 1].T\n",
    "y_train = [.5, 1]\n",
    "X_test = np.c_[0, 2].T\n",
    "\n",
    "np.random.seed(0)\n",
    "\n",
    "classifiers = dict(ols=linear_model.LinearRegression(),\n",
    "                   ridge=linear_model.Ridge(alpha=.05),\n",
    "                    lasso=linear_model.Lasso(alpha=.02))\n",
    "\n",
    "for name, clf in classifiers.items():\n",
    "    fig, ax = plt.subplots(figsize=(4, 3))\n",
    "\n",
    "    for _ in range(6):\n",
    "        this_X = .1 * np.random.normal(size=(2, 1)) + X_train\n",
    "        clf.fit(this_X, y_train)\n",
    "\n",
    "        ax.plot(X_test, clf.predict(X_test), color='gray')\n",
    "        ax.scatter(this_X, y_train, s=3, c='gray', marker='o', zorder=10)\n",
    "\n",
    "    clf.fit(X_train, y_train)\n",
    "    ax.plot(X_test, clf.predict(X_test), linewidth=2, color='blue')\n",
    "    ax.scatter(X_train, y_train, s=30, c='red', marker='+', zorder=10)\n",
    "\n",
    "    ax.set_title(name)\n",
    "    ax.set_xlim(0, 2)\n",
    "    ax.set_ylim((0, 1.6))\n",
    "    ax.set_xlabel('X')\n",
    "    ax.set_ylabel('y')\n",
    "\n",
    "    fig.tight_layout()\n",
    "\n",
    "plt.show()"
   ]
  },
  {
   "cell_type": "code",
   "execution_count": null,
   "metadata": {},
   "outputs": [],
   "source": [
    "\n",
    "\n",
    "\n",
    "\n"
   ]
  },
  {
   "cell_type": "markdown",
   "metadata": {},
   "source": [
    "## Choosing the regularization parameter $\\lambda$"
   ]
  },
  {
   "cell_type": "markdown",
   "metadata": {},
   "source": [
    "One way to choose $\\lambda$ is to do k-fold cross-validation on $\\lambda$, defining the error:\n",
    "\n",
    "## $ Err(\\lambda) = k^{1} \\sum_k N_k^{-1} \\sum\\limits_{i}^{N_k} \\frac{[y_i - f(x_i | \\theta)]^2}{\\sigma_i^2}$\n",
    "\n",
    "and then choose the $\\lambda$ with the smallest error."
   ]
  },
  {
   "cell_type": "code",
   "execution_count": null,
   "metadata": {},
   "outputs": [],
   "source": [
    "\n",
    "\n",
    "\n",
    "\n",
    "\n",
    "\n",
    "\n"
   ]
  },
  {
   "cell_type": "markdown",
   "metadata": {},
   "source": [
    "## Outliers"
   ]
  },
  {
   "cell_type": "markdown",
   "metadata": {},
   "source": [
    "## Huber loss"
   ]
  },
  {
   "cell_type": "markdown",
   "metadata": {
    "ExecuteTime": {
     "end_time": "2018-11-27T12:16:30.339367Z",
     "start_time": "2018-11-27T12:16:30.335282Z"
    }
   },
   "source": [
    "The Huber estimator minimizes\n",
    "\n",
    "## $ \\sum\\limits_{i=1}^N e(y_i|y)$\n",
    "\n",
    "where $e(y_i|y)$ is modeled as:\n",
    "\n",
    "## $\\begin{equation}\n",
    "  \\phi(t)=\\left\\{\n",
    "  \\begin{array}{@{}ll@{}}\n",
    "    \\frac{1}{2} t^2, & \\text{if}\\ |t|\\le c \\\\\n",
    "    c|t| - \\frac{1}{2} c^2, & \\text{otherwise}\n",
    "  \\end{array}\\right.\n",
    "\\end{equation}$"
   ]
  },
  {
   "cell_type": "markdown",
   "metadata": {},
   "source": [
    "![](Huberloss.png)"
   ]
  },
  {
   "cell_type": "markdown",
   "metadata": {},
   "source": [
    "![](HUber.png)"
   ]
  },
  {
   "cell_type": "markdown",
   "metadata": {},
   "source": [
    "## Bayesian Outlier Methods"
   ]
  },
  {
   "cell_type": "markdown",
   "metadata": {},
   "source": [
    "Alternative to the Huber loss, we can modify the likelihood function by assuming a mixture model, where some points belong to an outlier distribution, which is modeled as a Gaussian with mean $\\mu_b$ and variance $V_b$, and others belong to the main population, which follow the linear model."
   ]
  },
  {
   "cell_type": "markdown",
   "metadata": {},
   "source": [
    "1. Assume that the probability of belonging to the outlier population is $p_b$\n",
    "\n",
    "![](BayesianOutlier1.png)\n",
    "\n",
    "2. Assume that each point can be tagged as either outlier ($g_i = 0$) or not ($g_i = 1$)\n",
    "\n",
    "![](BayesianOutlier2.png)"
   ]
  },
  {
   "cell_type": "markdown",
   "metadata": {},
   "source": [
    "![](Outliers.png)"
   ]
  },
  {
   "cell_type": "code",
   "execution_count": null,
   "metadata": {},
   "outputs": [],
   "source": []
  },
  {
   "cell_type": "code",
   "execution_count": 7,
   "metadata": {
    "ExecuteTime": {
     "end_time": "2025-08-12T17:19:34.729517Z",
     "start_time": "2025-08-12T17:19:34.691673Z"
    }
   },
   "outputs": [],
   "source": [
    "?Ridge"
   ]
  },
  {
   "cell_type": "code",
   "execution_count": 11,
   "metadata": {
    "ExecuteTime": {
     "end_time": "2025-08-12T17:21:02.097451Z",
     "start_time": "2025-08-12T17:21:01.963089Z"
    },
    "scrolled": true
   },
   "outputs": [
    {
     "data": {
      "image/png": "[encoded data removed]",
      "text/plain": [
       "<Figure size 432x288 with 1 Axes>"
      ]
     },
     "metadata": {
      "needs_background": "light"
     },
     "output_type": "display_data"
    }
   ],
   "source": [
    "from sklearn.datasets import make_regression\n",
    "from sklearn.linear_model import HuberRegressor, Ridge\n",
    "\n",
    "# Generate toy data.\n",
    "rng = np.random.RandomState(0)\n",
    "X, y = make_regression(n_samples=20, n_features=1, random_state=0, noise=4.0,\n",
    "                       bias=100.0)\n",
    "\n",
    "# Add four strong outliers to the dataset.\n",
    "X_outliers = rng.normal(0, 0.5, size=(4, 1))\n",
    "y_outliers = rng.normal(0, 2.0, size=4)\n",
    "X_outliers[:2, :] += X.max() + X.mean() / 4.\n",
    "X_outliers[2:, :] += X.min() - X.mean() / 4.\n",
    "y_outliers[:2] += y.min() - y.mean() / 4.\n",
    "y_outliers[2:] += y.max() + y.mean() / 4.\n",
    "X = np.vstack((X, X_outliers))\n",
    "y = np.concatenate((y, y_outliers))\n",
    "plt.plot(X, y, 'b.')\n",
    "\n",
    "# Fit the huber regressor over a series of epsilon values.\n",
    "colors = ['r-', 'b-', 'y-', 'm-']\n",
    "\n",
    "x = np.linspace(X.min(), X.max(), 7)\n",
    "epsilon_values = [1.35, 1.5, 1.75, 1.9]\n",
    "for k, epsilon in enumerate(epsilon_values):\n",
    "    huber = HuberRegressor(fit_intercept=True, alpha=0.0, max_iter=100,\n",
    "                           epsilon=epsilon)\n",
    "    huber.fit(X, y)\n",
    "    coef_ = huber.coef_ * x + huber.intercept_\n",
    "    plt.plot(x, coef_, colors[k], label=\"huber loss, %s\" % epsilon)\n",
    "\n",
    "# Fit a ridge regressor to compare it to huber regressor.\n",
    "ridge = Ridge(fit_intercept=True, alpha=0.03, random_state=0)#, normalize=True)\n",
    "ridge.fit(X, y)\n",
    "coef_ridge = ridge.coef_\n",
    "coef_ = ridge.coef_ * x + ridge.intercept_\n",
    "plt.plot(x, coef_, 'g-', label=\"ridge regression\")\n",
    "\n",
    "plt.title(\"Comparison of HuberRegressor vs Ridge\")\n",
    "plt.xlabel(\"X\")\n",
    "plt.ylabel(\"y\")\n",
    "plt.legend(loc=0)\n",
    "plt.show()"
   ]
  },
  {
   "cell_type": "code",
   "execution_count": null,
   "metadata": {},
   "outputs": [],
   "source": [
    "\n",
    "\n",
    "\n",
    "\n"
   ]
  },
  {
   "cell_type": "markdown",
   "metadata": {},
   "source": [
    "## Cross-validation"
   ]
  },
  {
   "cell_type": "markdown",
   "metadata": {},
   "source": [
    "Analogous to the classification problem, one can also do cross-validation during regression to determine the best hyperparameters. For example, choosing the regularization parameter for ridge or lasso regression, or choosing the polynomial degree of a polynomial fit."
   ]
  },
  {
   "cell_type": "markdown",
   "metadata": {},
   "source": [
    "![](Polynomial.png)"
   ]
  },
  {
   "cell_type": "markdown",
   "metadata": {},
   "source": [
    "![](PolynomialCV.png)"
   ]
  },
  {
   "cell_type": "code",
   "execution_count": null,
   "metadata": {},
   "outputs": [],
   "source": [
    "\n",
    "\n",
    "\n",
    "\n",
    "\n"
   ]
  }
 ],
 "metadata": {
  "kernelspec": {
   "display_name": "Python 3",
   "language": "python",
   "name": "python3"
  },
  "language_info": {
   "codemirror_mode": {
    "name": "ipython",
    "version": 3
   },
   "file_extension": ".py",
   "mimetype": "text/x-python",
   "name": "python",
   "nbconvert_exporter": "python",
   "pygments_lexer": "ipython3",
   "version": "3.8.8"
  },
  "toc": {
   "base_numbering": 1,
   "nav_menu": {},
   "number_sections": true,
   "sideBar": true,
   "skip_h1_title": false,
   "title_cell": "Table of Contents",
   "title_sidebar": "Contents",
   "toc_cell": false,
   "toc_position": {},
   "toc_section_display": true,
   "toc_window_display": false
  },
  "varInspector": {
   "cols": {
    "lenName": 16,
    "lenType": 16,
    "lenVar": 40
   },
   "kernels_config": {
    "python": {
     "delete_cmd_postfix": "",
     "delete_cmd_prefix": "del ",
     "library": "var_list.py",
     "varRefreshCmd": "print(var_dic_list())"
    },
    "r": {
     "delete_cmd_postfix": ") ",
     "delete_cmd_prefix": "rm(",
     "library": "var_list.r",
     "varRefreshCmd": "cat(var_dic_list()) "
    }
   },
   "types_to_exclude": [
    "module",
    "function",
    "builtin_function_or_method",
    "instance",
    "_Feature"
   ],
   "window_display": false
  }
 },
 "nbformat": 4,
 "nbformat_minor": 2
}

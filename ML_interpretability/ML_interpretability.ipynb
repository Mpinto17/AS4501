{
 "cells": [
  {
   "cell_type": "markdown",
   "id": "feae9d37",
   "metadata": {},
   "source": [
    "$\\LARGE{AS4501}$\n",
    "\n",
    "Interpretability\n",
    "\n",
    "Reference: Interpretable machine learning, A Guide for Making Black Box Models Explainable, Christoph Molnar\n",
    "\n"
   ]
  },
  {
   "cell_type": "markdown",
   "id": "c410fcbf",
   "metadata": {},
   "source": [
    "# Interpretability"
   ]
  },
  {
   "cell_type": "markdown",
   "id": "35cd7973",
   "metadata": {},
   "source": [
    "An important aspect of ML is interpretability. \n",
    "\n",
    "Can we understand how a model does classification or regression for a given sample and does it agree with our intuition?\n",
    "\n",
    "It's important for a model to be able to explain its decisions to check for the following:\n",
    "    \n",
    "- fairness: are the prediction unbiased?\n",
    "- privacy: is sensitive data protected\n",
    "- reliability or robustness: can small changes in the input lead to large changes in the prediction?\n",
    "- debugging: By understanding the contributions of individual features, this can help in detecting issues or flaws in the model, such as overfitting, underfitting, or the presence of irrelevant features.\n",
    "- causality: are only causal relations recovered?\n",
    "- trust: can I trust the system? usually we trust something if we understand what it is doing."
   ]
  },
  {
   "cell_type": "markdown",
   "id": "30a809df",
   "metadata": {},
   "source": [
    "# Classes of interpretability"
   ]
  },
  {
   "cell_type": "markdown",
   "id": "c71e76b9",
   "metadata": {},
   "source": [
    "Methods for interpretability can be classified as intrinsic or post hoc. \n",
    "\n",
    "Intrinsic interpretability refers to models that are simple enough to be understood, e.g., a decision tree or a linear regression.\n",
    "\n",
    "Post hoc methods refers to methods that are applied to the model after training.\n",
    "\n",
    "Moreover, while some models are intrinsically interpretable, such as decision trees; other models require model agnostic interpretation methods."
   ]
  },
  {
   "cell_type": "markdown",
   "id": "fb52dcbf",
   "metadata": {},
   "source": [
    "The different types of interpretability methods can also be classified according to their results:\n",
    "\n",
    "* feature summary statistic: many interpretation methods return summary statistic for each feature\n",
    "\n",
    "* feature summary visualization: instead of statistics, we can visualize the distribution of some properties associated to one or a collection of features for the full sample.\n",
    "\n",
    "* model internals: the model may contain some parameters that are directly interpretable, e.g. coefficients of a linear model.\n",
    "\n",
    "* data point: some methods return data points (new or created) to make a model interpretable. One example is counterfactual explanations: identify a change in a feature that would lead to a large change in the prediction. Another is finding prototype examples of a given class.\n",
    "\n",
    "* intrinsically interpretable model: some models are easy to interpret, e.g. a decision tree."
   ]
  },
  {
   "cell_type": "markdown",
   "id": "31ea7dbf",
   "metadata": {},
   "source": [
    "For example, if I have a model that classifies pulsating stars, what is the contribution of the period and the amplitude of the variability to the actual prediction?\n",
    "\n",
    "![](images/pulsating_stars.png)"
   ]
  },
  {
   "cell_type": "markdown",
   "id": "fed816bc",
   "metadata": {
    "ExecuteTime": {
     "end_time": "2023-05-05T18:23:31.967516Z",
     "start_time": "2023-05-05T18:23:31.885189Z"
    }
   },
   "source": [
    "# Model agnostic methods"
   ]
  },
  {
   "cell_type": "markdown",
   "id": "df4277cd",
   "metadata": {},
   "source": [
    "It is not always possible to build interpretable models for every problem with the same predictive power as non-interpretable models. \n",
    "\n",
    "Some desirable aspects of a good interpretable model are the following:\n",
    "\n",
    "- Model flexibility: the method works with any type of model, e.g. random forest or deep neural network\n",
    "- Explanation flexibility: the method is not limited to one type of explanation, e.g. summary statistic or visualization.\n",
    "- Representation flexibility: the explanation should be able to use different feature representations of the model, e.g. words vs embeddings, patches vs pixels. "
   ]
  },
  {
   "cell_type": "markdown",
   "id": "a7afed40",
   "metadata": {
    "ExecuteTime": {
     "end_time": "2023-05-05T23:24:14.839516Z",
     "start_time": "2023-05-05T23:24:14.832107Z"
    }
   },
   "source": [
    "A method for interpretability could be local, i.e. it explains the prediction of one sample, or global, i.e. for the entire distribution."
   ]
  },
  {
   "cell_type": "markdown",
   "id": "1decbc76",
   "metadata": {},
   "source": [
    "## Global model agnostic methods"
   ]
  },
  {
   "cell_type": "markdown",
   "id": "da44391d",
   "metadata": {},
   "source": [
    "Among the global agnostic method, perhaps the most well known is the partial dependence plot (PDP or PD).\n",
    "\n",
    "PDP shows the marginal effect one or two features have on the predicted outcome of a machine learning model.\n",
    "\n",
    "The partial dependency function for regression is defined as:\n",
    "\n",
    "\n",
    "$\\Large \\hat f_S(x_S) = E_{X_C} [\\hat f(x_S, X_C)] = \\int \\hat f(x_S, X_C) dP(X_C)$"
   ]
  },
  {
   "cell_type": "markdown",
   "id": "be03bd7b",
   "metadata": {},
   "source": [
    "where $x_S$ are the features for which the partial dependency is being recovered and $X_C$ are the other features. This means that the output of the model is marginalized over the distribution of features in $X_C$."
   ]
  },
  {
   "cell_type": "markdown",
   "id": "59cbd953",
   "metadata": {},
   "source": [
    "### Trying with the bike sharing demand dataset"
   ]
  },
  {
   "cell_type": "markdown",
   "id": "61ae0587",
   "metadata": {},
   "source": [
    "See https://scikit-learn.org/stable/auto_examples/inspection/plot_partial_dependence.html"
   ]
  },
  {
   "cell_type": "code",
   "execution_count": null,
   "id": "812d8cec",
   "metadata": {
    "ExecuteTime": {
     "end_time": "2023-05-08T18:51:02.352535Z",
     "start_time": "2023-05-08T18:51:02.281742Z"
    }
   },
   "outputs": [],
   "source": [
    "from sklearn.datasets import fetch_openml\n",
    "\n",
    "bikes = fetch_openml(\"Bike_Sharing_Demand\", version=2, as_frame=True, parser=\"pandas\")\n",
    "# Make an explicit copy to avoid \"SettingWithCopyWarning\" from pandas\n",
    "X, y = bikes.data.copy(), bikes.target"
   ]
  },
  {
   "cell_type": "code",
   "execution_count": null,
   "id": "cee9c1d7",
   "metadata": {
    "ExecuteTime": {
     "end_time": "2023-05-08T18:51:21.652985Z",
     "start_time": "2023-05-08T18:51:21.623750Z"
    }
   },
   "outputs": [],
   "source": [
    "X"
   ]
  },
  {
   "cell_type": "code",
   "execution_count": null,
   "id": "58a7aba1",
   "metadata": {
    "ExecuteTime": {
     "end_time": "2023-05-08T18:51:50.628690Z",
     "start_time": "2023-05-08T18:51:50.620635Z"
    }
   },
   "outputs": [],
   "source": [
    "y"
   ]
  },
  {
   "cell_type": "code",
   "execution_count": null,
   "id": "5696b4fb",
   "metadata": {
    "ExecuteTime": {
     "end_time": "2023-05-08T18:52:08.148682Z",
     "start_time": "2023-05-08T18:52:08.138125Z"
    }
   },
   "outputs": [],
   "source": [
    "X[\"weather\"].value_counts()"
   ]
  },
  {
   "cell_type": "code",
   "execution_count": null,
   "id": "e9d22b9d",
   "metadata": {
    "ExecuteTime": {
     "end_time": "2023-05-08T18:52:09.943344Z",
     "start_time": "2023-05-08T18:52:09.896876Z"
    }
   },
   "outputs": [],
   "source": [
    "X[\"weather\"].replace(to_replace=\"heavy_rain\", value=\"rain\", inplace=True)"
   ]
  },
  {
   "cell_type": "code",
   "execution_count": null,
   "id": "b4ef87b7",
   "metadata": {
    "ExecuteTime": {
     "end_time": "2023-05-08T18:52:12.907312Z",
     "start_time": "2023-05-08T18:52:12.896236Z"
    }
   },
   "outputs": [],
   "source": [
    "X[\"year\"].value_counts()"
   ]
  },
  {
   "cell_type": "code",
   "execution_count": null,
   "id": "24ce1202",
   "metadata": {
    "ExecuteTime": {
     "end_time": "2023-05-08T18:52:26.806438Z",
     "start_time": "2023-05-08T18:52:26.787359Z"
    }
   },
   "outputs": [],
   "source": [
    "mask_training = X[\"year\"] == 0.0\n",
    "X = X.drop(columns=[\"year\"])\n",
    "X_train, y_train = X[mask_training], y[mask_training]\n",
    "X_test, y_test = X[~mask_training], y[~mask_training]"
   ]
  },
  {
   "cell_type": "code",
   "execution_count": null,
   "id": "ed60000b",
   "metadata": {
    "ExecuteTime": {
     "end_time": "2023-05-08T18:55:53.382830Z",
     "start_time": "2023-05-08T18:55:53.362740Z"
    }
   },
   "outputs": [],
   "source": [
    "X_train.info()"
   ]
  },
  {
   "cell_type": "code",
   "execution_count": null,
   "id": "3d1d720e",
   "metadata": {
    "ExecuteTime": {
     "end_time": "2023-05-08T18:56:43.729875Z",
     "start_time": "2023-05-08T18:56:43.298249Z"
    }
   },
   "outputs": [],
   "source": [
    "from itertools import product\n",
    "import numpy as np\n",
    "import matplotlib.pyplot as plt\n",
    "\n",
    "days = (\"Sun\", \"Mon\", \"Tue\", \"Wed\", \"Thu\", \"Fri\", \"Sat\")\n",
    "hours = tuple(range(24))\n",
    "xticklabels = [f\"{day}\\n{hour}:00\" for day, hour in product(days, hours)]\n",
    "xtick_start, xtick_period = 6, 12\n",
    "\n",
    "fig, axs = plt.subplots(nrows=2, figsize=(8, 6), sharey=True, sharex=True)\n",
    "average_bike_rentals = bikes.frame.groupby([\"year\", \"season\", \"weekday\", \"hour\"]).mean(\n",
    "    numeric_only=True\n",
    ")[\"count\"]\n",
    "for ax, (idx, df) in zip(axs, average_bike_rentals.groupby(\"year\")):\n",
    "    df.groupby(\"season\").plot(ax=ax, legend=True)\n",
    "\n",
    "    # decorate the plot\n",
    "    ax.set_xticks(\n",
    "        np.linspace(\n",
    "            start=xtick_start,\n",
    "            stop=len(xticklabels),\n",
    "            num=len(xticklabels) // xtick_period,\n",
    "        )\n",
    "    )\n",
    "    ax.set_xticklabels(xticklabels[xtick_start::xtick_period])\n",
    "    ax.set_xlabel(\"\")\n",
    "    ax.set_ylabel(\"Average number of bike rentals\")\n",
    "    ax.set_title(\n",
    "        f\"Bike rental for {'2010 (train set)' if idx == 0.0 else '2011 (test set)'}\"\n",
    "    )\n",
    "    ax.set_ylim(0, 1_000)\n",
    "    ax.set_xlim(0, len(xticklabels))\n",
    "    ax.legend(loc=2)"
   ]
  },
  {
   "cell_type": "code",
   "execution_count": null,
   "id": "d57406b4",
   "metadata": {
    "ExecuteTime": {
     "end_time": "2023-05-08T18:56:56.465382Z",
     "start_time": "2023-05-08T18:56:56.461300Z"
    }
   },
   "outputs": [],
   "source": [
    "numerical_features = [\n",
    "    \"temp\",\n",
    "    \"feel_temp\",\n",
    "    \"humidity\",\n",
    "    \"windspeed\",\n",
    "]\n",
    "categorical_features = X_train.columns.drop(numerical_features)"
   ]
  },
  {
   "cell_type": "code",
   "execution_count": null,
   "id": "1bf01d4d",
   "metadata": {
    "ExecuteTime": {
     "end_time": "2023-05-08T19:00:45.789883Z",
     "start_time": "2023-05-08T19:00:45.778014Z"
    }
   },
   "outputs": [],
   "source": [
    "from sklearn.compose import ColumnTransformer\n",
    "from sklearn.preprocessing import QuantileTransformer\n",
    "from sklearn.preprocessing import OneHotEncoder\n",
    "\n",
    "mlp_preprocessor = ColumnTransformer(\n",
    "    transformers=[\n",
    "        (\"num\", QuantileTransformer(n_quantiles=100), numerical_features),\n",
    "        (\"cat\", OneHotEncoder(handle_unknown=\"ignore\"), categorical_features),\n",
    "    ]\n",
    ")\n",
    "mlp_preprocessor"
   ]
  },
  {
   "cell_type": "code",
   "execution_count": null,
   "id": "f93602ea",
   "metadata": {
    "ExecuteTime": {
     "end_time": "2023-05-08T19:00:55.800576Z",
     "start_time": "2023-05-08T19:00:55.781176Z"
    }
   },
   "outputs": [],
   "source": [
    "from sklearn.preprocessing import OrdinalEncoder\n",
    "\n",
    "hgbdt_preprocessor = ColumnTransformer(\n",
    "    transformers=[\n",
    "        (\"cat\", OrdinalEncoder(), categorical_features),\n",
    "        (\"num\", \"passthrough\", numerical_features),\n",
    "    ],\n",
    "    sparse_threshold=1,\n",
    "    verbose_feature_names_out=False,\n",
    ").set_output(transform=\"pandas\")\n",
    "hgbdt_preprocessor"
   ]
  },
  {
   "cell_type": "code",
   "execution_count": null,
   "id": "6f57f2aa",
   "metadata": {
    "ExecuteTime": {
     "end_time": "2023-05-08T19:01:28.109189Z",
     "start_time": "2023-05-08T19:01:24.656952Z"
    }
   },
   "outputs": [],
   "source": [
    "from time import time\n",
    "from sklearn.neural_network import MLPRegressor\n",
    "from sklearn.pipeline import make_pipeline\n",
    "\n",
    "print(\"Training MLPRegressor...\")\n",
    "tic = time()\n",
    "mlp_model = make_pipeline(\n",
    "    mlp_preprocessor,\n",
    "    MLPRegressor(\n",
    "        hidden_layer_sizes=(30, 15),\n",
    "        learning_rate_init=0.01,\n",
    "        early_stopping=True,\n",
    "        random_state=0,\n",
    "    ),\n",
    ")\n",
    "mlp_model.fit(X_train, y_train)\n",
    "print(f\"done in {time() - tic:.3f}s\")\n",
    "print(f\"Test R2 score: {mlp_model.score(X_test, y_test):.2f}\")"
   ]
  },
  {
   "cell_type": "code",
   "execution_count": null,
   "id": "8e4b5ac5",
   "metadata": {
    "ExecuteTime": {
     "end_time": "2023-05-08T19:02:37.053934Z",
     "start_time": "2023-05-08T19:02:33.004698Z"
    }
   },
   "outputs": [],
   "source": [
    "import matplotlib.pyplot as plt\n",
    "from sklearn.inspection import PartialDependenceDisplay\n",
    "\n",
    "common_params = {\n",
    "    \"subsample\": 50,\n",
    "    \"n_jobs\": 2,\n",
    "    \"grid_resolution\": 20,\n",
    "    \"random_state\": 0,\n",
    "}\n",
    "\n",
    "print(\"Computing partial dependence plots...\")\n",
    "features_info = {\n",
    "    # features of interest\n",
    "    \"features\": [\"temp\", \"humidity\", \"windspeed\", \"season\", \"weather\", \"hour\"],\n",
    "    # type of partial dependence plot\n",
    "    \"kind\": \"average\",\n",
    "    # information regarding categorical features\n",
    "    \"categorical_features\": categorical_features,\n",
    "}\n",
    "tic = time()\n",
    "_, ax = plt.subplots(ncols=3, nrows=2, figsize=(9, 8), constrained_layout=True)\n",
    "display = PartialDependenceDisplay.from_estimator(\n",
    "    mlp_model,\n",
    "    X_train,\n",
    "    **features_info,\n",
    "    ax=ax,\n",
    "    **common_params,\n",
    ")\n",
    "print(f\"done in {time() - tic:.3f}s\")\n",
    "_ = display.figure_.suptitle(\n",
    "    \"Partial dependence of the number of bike rentals\\n\"\n",
    "    \"for the bike rental dataset with an MLPRegressor\",\n",
    "    fontsize=16,\n",
    ")"
   ]
  },
  {
   "cell_type": "code",
   "execution_count": null,
   "id": "861f63a1",
   "metadata": {
    "ExecuteTime": {
     "end_time": "2023-05-08T19:06:25.689022Z",
     "start_time": "2023-05-08T19:06:24.843859Z"
    }
   },
   "outputs": [],
   "source": [
    "from sklearn.ensemble import HistGradientBoostingRegressor\n",
    "\n",
    "print(\"Training HistGradientBoostingRegressor...\")\n",
    "tic = time()\n",
    "hgbdt_model = make_pipeline(\n",
    "    hgbdt_preprocessor,\n",
    "    HistGradientBoostingRegressor(\n",
    "        categorical_features=categorical_features, random_state=0\n",
    "    ),\n",
    ")\n",
    "hgbdt_model.fit(X_train, y_train)\n",
    "print(f\"done in {time() - tic:.3f}s\")\n",
    "print(f\"Test R2 score: {hgbdt_model.score(X_test, y_test):.2f}\")"
   ]
  },
  {
   "cell_type": "code",
   "execution_count": null,
   "id": "b5aecdee",
   "metadata": {
    "ExecuteTime": {
     "end_time": "2023-05-08T19:06:40.885812Z",
     "start_time": "2023-05-08T19:06:35.602852Z"
    }
   },
   "outputs": [],
   "source": [
    "print(\"Computing partial dependence plots...\")\n",
    "tic = time()\n",
    "_, ax = plt.subplots(ncols=3, nrows=2, figsize=(9, 8), constrained_layout=True)\n",
    "display = PartialDependenceDisplay.from_estimator(\n",
    "    hgbdt_model,\n",
    "    X_train,\n",
    "    **features_info,\n",
    "    ax=ax,\n",
    "    **common_params,\n",
    ")\n",
    "print(f\"done in {time() - tic:.3f}s\")\n",
    "_ = display.figure_.suptitle(\n",
    "    \"Partial dependence of the number of bike rentals\\n\"\n",
    "    \"for the bike rental dataset with a gradient boosting\",\n",
    "    fontsize=16,\n",
    ")"
   ]
  },
  {
   "cell_type": "code",
   "execution_count": null,
   "id": "9e952f85",
   "metadata": {
    "ExecuteTime": {
     "end_time": "2023-05-08T19:10:55.235042Z",
     "start_time": "2023-05-08T19:10:30.762744Z"
    }
   },
   "outputs": [],
   "source": [
    "print(\"Computing partial dependence plots...\")\n",
    "features_info = {\n",
    "    \"features\": [\"temp\", \"humidity\", (\"temp\", \"humidity\")],\n",
    "    \"kind\": \"average\",\n",
    "}\n",
    "_, ax = plt.subplots(ncols=3, figsize=(10, 4), constrained_layout=True)\n",
    "tic = time()\n",
    "display = PartialDependenceDisplay.from_estimator(\n",
    "    hgbdt_model,\n",
    "    X_train,\n",
    "    **features_info,\n",
    "    ax=ax,\n",
    "    **common_params,\n",
    ")\n",
    "print(f\"done in {time() - tic:.3f}s\")\n",
    "_ = display.figure_.suptitle(\n",
    "    \"1-way vs 2-way of numerical PDP using gradient boosting\", fontsize=16)"
   ]
  },
  {
   "cell_type": "code",
   "execution_count": null,
   "id": "c0f641d8",
   "metadata": {
    "ExecuteTime": {
     "end_time": "2023-05-08T19:12:35.917582Z",
     "start_time": "2023-05-08T19:12:34.226758Z"
    }
   },
   "outputs": [],
   "source": [
    "print(\"Computing partial dependence plots...\")\n",
    "features_info = {\n",
    "    \"features\": [\"season\", \"weather\", (\"season\", \"weather\")],\n",
    "    \"kind\": \"average\",\n",
    "    \"categorical_features\": categorical_features,\n",
    "}\n",
    "_, ax = plt.subplots(ncols=3, figsize=(14, 6), constrained_layout=True)\n",
    "tic = time()\n",
    "display = PartialDependenceDisplay.from_estimator(\n",
    "    hgbdt_model,\n",
    "    X_train,\n",
    "    **features_info,\n",
    "    ax=ax,\n",
    "    **common_params,\n",
    ")\n",
    "\n",
    "print(f\"done in {time() - tic:.3f}s\")\n",
    "_ = display.figure_.suptitle(\n",
    "    \"1-way vs 2-way PDP of categorical features using gradient boosting\", fontsize=16\n",
    ")"
   ]
  },
  {
   "cell_type": "markdown",
   "id": "760252f2",
   "metadata": {},
   "source": [
    "## Local model agnostic methods"
   ]
  },
  {
   "cell_type": "markdown",
   "id": "899da725",
   "metadata": {},
   "source": [
    "### Shapley values"
   ]
  },
  {
   "cell_type": "markdown",
   "id": "483da354",
   "metadata": {},
   "source": [
    "Shapley values are a way to distribute gains among players in a cooperative game based on their individual contributions to the overall outcome. \n",
    "\n",
    "In the case of machine learning, we can think of features as players and gains as the actual prediction for the instance minus the average of all instances."
   ]
  },
  {
   "cell_type": "markdown",
   "id": "43a233b1",
   "metadata": {},
   "source": [
    "## Computation"
   ]
  },
  {
   "cell_type": "markdown",
   "id": "2d23a85d",
   "metadata": {
    "ExecuteTime": {
     "end_time": "2023-05-05T02:13:53.707954Z",
     "start_time": "2023-05-05T02:13:53.700033Z"
    }
   },
   "source": [
    "The main idea is to assign a value to each player [feature] that represents their **average marginal contribution** to the total payoff [value], considering **all possible coalitions** (combinations of players [features]). In other words, what is the difference in value due to the influence of the given player [feature] considering all possible combinations of features. Shapley values are defined as:"
   ]
  },
  {
   "cell_type": "markdown",
   "id": "963436cd",
   "metadata": {
    "ExecuteTime": {
     "end_time": "2023-05-04T23:59:51.071434Z",
     "start_time": "2023-05-04T23:59:51.064686Z"
    }
   },
   "source": [
    "$\\Large \\phi_i(v) = \\sum\\limits_{S \\subseteq N \\setminus\\lbrace i\\rbrace}^{b}  \\binom{n}{1, |S|, n - |S| - 1}^{-1} (v(S \\cup \\lbrace i \\rbrace) - v(S))$"
   ]
  },
  {
   "cell_type": "markdown",
   "id": "fab5a301",
   "metadata": {},
   "source": [
    "where $\\phi_i(v)$ is the Shapley value of feature $i$ with value function $v$, $n$ is the total number of players [features], and the sum extends over all subsets $S$ of $N$, the set of players [features]."
   ]
  },
  {
   "cell_type": "markdown",
   "id": "b111d311",
   "metadata": {},
   "source": [
    "In practice, we can estimate this difference by replacing the feature by a random value sampled from the distribution of the feature, subtracting and then averaging per coalition."
   ]
  },
  {
   "cell_type": "markdown",
   "id": "c3ec5b09",
   "metadata": {},
   "source": [
    "The Shapley value is the only attribution method that satisfies Efficiency, Symmetry, Dummy and Additivity:\n",
    "\n",
    "- Efficiency: the feature contributions must add up to the difference between the value of prediction for x and the average prediction.\n",
    "- Symmetry: the contribution of two features j and k should be the same if they contribute equally to all possible coalitions.\n",
    "- Dummy: a feature j that does not change the predicted value has a Shapley value of zero\n",
    "- Additivity: For a game of combined payouts the Shapley values can be added."
   ]
  },
  {
   "cell_type": "markdown",
   "id": "388ae550",
   "metadata": {},
   "source": [
    "Note that the Shapley value is NOT the difference of the predicted value after removing the feature from the model training. It is the difference between the actual prediction and the mean prediction."
   ]
  },
  {
   "cell_type": "markdown",
   "id": "28a92797",
   "metadata": {},
   "source": [
    "# SHAP (SHapley Additive exPlanations) "
   ]
  },
  {
   "cell_type": "markdown",
   "id": "145378cd",
   "metadata": {},
   "source": [
    "In SHAP the Shapley value explanation is represented by a linear model:\n",
    "\n",
    "$\\Large g(z')  =  \\phi_0 + \\sum\\limits_{j=1}^{M} \\phi_j z'_j$"
   ]
  },
  {
   "cell_type": "markdown",
   "id": "d1f9a7ef",
   "metadata": {},
   "source": [
    "where $g$ is the explanation model, $z' \\in \\lbrace 0, 1 \\rbrace^M$ is a coalition vector (0 when the feature is not used, 1 when the feature is used), $M$ is the maximum coalition size, and $\\phi_j \\in \\mathbb{R}$ is the feature attribution to feature $j$.\n",
    "\n",
    "The value when all features are used correspond to the $g(x')$, with $x'$ a vector of only 1s."
   ]
  },
  {
   "cell_type": "markdown",
   "id": "2c1da47f",
   "metadata": {},
   "source": [
    "To estimate the SHAP values, $K$ different coalitions are sampled ($z'$) and a linear model is fit to obtain the values of $\\phi_j$. The predictions as a function of $z'$ are weighted using a SHAP kernel that is built to comply with the definition of Shapley values:\n",
    "\n",
    "$\\Large \\pi_x(z')=\\frac{(M-1)}{\\binom{M}{|z'|} |z'| (M - |z'|)}$\n",
    "\n",
    "where $M$ is the maximum coalition size  and $|z'|$ the number of features in instance $z'$.\n",
    "\n",
    "Te weights are applied using the following loss function to fit the linear model $g$:\n",
    "\n",
    "$\\Large L(\\hat{f}, g, \\pi_x) = \\sum\\limits_{z' \\in Z} [ \\hat{f}(h_x(z')) - g(z')]^2 \\pi_x(z')$\n",
    "\n",
    "where $Z$ is the training data."
   ]
  },
  {
   "cell_type": "markdown",
   "id": "3b9300c1",
   "metadata": {},
   "source": [
    "## Test SHAP on the iris dataset"
   ]
  },
  {
   "cell_type": "code",
   "execution_count": null,
   "id": "56aaf298",
   "metadata": {
    "ExecuteTime": {
     "end_time": "2023-05-08T19:33:17.241663Z",
     "start_time": "2023-05-08T19:33:17.202545Z"
    }
   },
   "outputs": [],
   "source": [
    "import numpy as np\n",
    "import pandas as pd\n",
    "import shap\n",
    "import xgboost\n",
    "import seaborn as sn\n",
    "\n",
    "from sklearn.datasets import load_iris\n",
    "from sklearn.model_selection import train_test_split\n",
    "\n",
    "shap.initjs()"
   ]
  },
  {
   "cell_type": "code",
   "execution_count": null,
   "id": "12976499",
   "metadata": {
    "ExecuteTime": {
     "end_time": "2023-05-08T19:33:26.020385Z",
     "start_time": "2023-05-08T19:33:26.007749Z"
    }
   },
   "outputs": [],
   "source": [
    "iris = load_iris()\n",
    "X = pd.DataFrame(iris.data, columns=iris.feature_names)\n",
    "y = iris.target\n",
    "\n",
    "X_train, X_test, y_train, y_test = train_test_split(X, y, test_size=0.2, random_state=42)"
   ]
  },
  {
   "cell_type": "code",
   "execution_count": null,
   "id": "58d0485b",
   "metadata": {
    "ExecuteTime": {
     "end_time": "2023-05-08T19:33:27.460468Z",
     "start_time": "2023-05-08T19:33:27.438017Z"
    }
   },
   "outputs": [],
   "source": [
    "df = pd.DataFrame(iris.data, columns=iris.feature_names)\n",
    "df['species'] = iris.target\n",
    "df"
   ]
  },
  {
   "cell_type": "code",
   "execution_count": null,
   "id": "3d15d070",
   "metadata": {
    "ExecuteTime": {
     "end_time": "2023-05-08T19:33:42.031132Z",
     "start_time": "2023-05-08T19:33:38.503731Z"
    }
   },
   "outputs": [],
   "source": [
    "sn.pairplot(df, hue='species')"
   ]
  },
  {
   "cell_type": "markdown",
   "id": "916a27b5",
   "metadata": {},
   "source": [
    "### Train an XGBoost model"
   ]
  },
  {
   "cell_type": "code",
   "execution_count": null,
   "id": "868a7820",
   "metadata": {
    "ExecuteTime": {
     "end_time": "2023-05-08T19:34:12.922201Z",
     "start_time": "2023-05-08T19:34:12.867366Z"
    }
   },
   "outputs": [],
   "source": [
    "model = xgboost.train({\"learning_rate\": 0.01}, xgboost.DMatrix(X_train, label=y_train), 100)"
   ]
  },
  {
   "cell_type": "markdown",
   "id": "f7f10dfd",
   "metadata": {},
   "source": [
    "### Initialize SHAP explainer"
   ]
  },
  {
   "cell_type": "code",
   "execution_count": null,
   "id": "1d4d4299",
   "metadata": {
    "ExecuteTime": {
     "end_time": "2023-05-08T19:34:30.486185Z",
     "start_time": "2023-05-08T19:34:30.385906Z"
    }
   },
   "outputs": [],
   "source": [
    "explainer = shap.Explainer(model)"
   ]
  },
  {
   "cell_type": "markdown",
   "id": "a0a6e1d6",
   "metadata": {},
   "source": [
    "### Calculate SHAP values for individual samples"
   ]
  },
  {
   "cell_type": "code",
   "execution_count": null,
   "id": "97e371b5",
   "metadata": {
    "ExecuteTime": {
     "end_time": "2023-05-08T19:40:54.142613Z",
     "start_time": "2023-05-08T19:40:54.134294Z"
    }
   },
   "outputs": [],
   "source": [
    "# Select a test instance\n",
    "instance_idx = 5\n",
    "instance = X_test.iloc[[instance_idx]]\n",
    "print(y_test[instance_idx])\n",
    "\n",
    "# Calculate SHAP values\n",
    "shap_values = explainer(instance)"
   ]
  },
  {
   "cell_type": "code",
   "execution_count": null,
   "id": "b58ab344",
   "metadata": {
    "ExecuteTime": {
     "end_time": "2023-05-08T19:40:54.626155Z",
     "start_time": "2023-05-08T19:40:54.621273Z"
    }
   },
   "outputs": [],
   "source": [
    "# Plot SHAP values\n",
    "shap.plots.force(shap_values)"
   ]
  },
  {
   "cell_type": "code",
   "execution_count": null,
   "id": "9cc10449",
   "metadata": {
    "ExecuteTime": {
     "end_time": "2023-05-08T19:41:21.747154Z",
     "start_time": "2023-05-08T19:41:21.364911Z"
    }
   },
   "outputs": [],
   "source": [
    "shap.plots.waterfall(shap_values[0])#, max_display=14)"
   ]
  },
  {
   "cell_type": "markdown",
   "id": "d986471d",
   "metadata": {},
   "source": [
    "### Mean SHAP value for the whole distribution\n"
   ]
  },
  {
   "cell_type": "code",
   "execution_count": null,
   "id": "9dafab4a",
   "metadata": {
    "ExecuteTime": {
     "end_time": "2023-05-08T19:41:51.729402Z",
     "start_time": "2023-05-08T19:41:51.553706Z"
    }
   },
   "outputs": [],
   "source": [
    "shap_values_test = explainer(X_test)\n",
    "\n",
    "# Plot SHAP values\n",
    "shap.plots.bar(shap_values_test.abs.mean(0))"
   ]
  },
  {
   "cell_type": "markdown",
   "id": "ed32da50",
   "metadata": {},
   "source": [
    "### Distribution of values for the whole distribution"
   ]
  },
  {
   "cell_type": "code",
   "execution_count": null,
   "id": "c5409a42",
   "metadata": {
    "ExecuteTime": {
     "end_time": "2023-05-08T19:42:48.477111Z",
     "start_time": "2023-05-08T19:42:48.225120Z"
    }
   },
   "outputs": [],
   "source": [
    "shap.plots.beeswarm(shap_values_test)"
   ]
  },
  {
   "cell_type": "code",
   "execution_count": null,
   "id": "8535cd4d",
   "metadata": {
    "ExecuteTime": {
     "end_time": "2023-05-08T19:44:21.323978Z",
     "start_time": "2023-05-08T19:44:21.110901Z"
    }
   },
   "outputs": [],
   "source": [
    "shap.plots.heatmap(shap_values_test)"
   ]
  },
  {
   "cell_type": "code",
   "execution_count": null,
   "id": "002031db",
   "metadata": {
    "ExecuteTime": {
     "end_time": "2023-05-08T19:44:57.229153Z",
     "start_time": "2023-05-08T19:44:56.798650Z"
    }
   },
   "outputs": [],
   "source": [
    "shap.plots.scatter(shap_values_test)"
   ]
  },
  {
   "cell_type": "code",
   "execution_count": null,
   "id": "4c4474b5",
   "metadata": {
    "ExecuteTime": {
     "end_time": "2023-05-08T19:45:23.558167Z",
     "start_time": "2023-05-08T19:45:23.549300Z"
    }
   },
   "outputs": [],
   "source": [
    "shap_values_test"
   ]
  },
  {
   "cell_type": "markdown",
   "id": "0edde87d",
   "metadata": {},
   "source": [
    "## Test the SHAP values with the QSO and stars dataset"
   ]
  },
  {
   "cell_type": "code",
   "execution_count": null,
   "id": "4947e7ab",
   "metadata": {
    "ExecuteTime": {
     "end_time": "2023-05-08T19:45:57.765622Z",
     "start_time": "2023-05-08T19:45:57.732540Z"
    }
   },
   "outputs": [],
   "source": [
    "stars = pd.read_csv(\"data/SDSS_stars.csv\")\n",
    "stars.head()"
   ]
  },
  {
   "cell_type": "code",
   "execution_count": null,
   "id": "6ede73f7",
   "metadata": {
    "ExecuteTime": {
     "end_time": "2023-05-08T19:45:59.341458Z",
     "start_time": "2023-05-08T19:45:59.144905Z"
    }
   },
   "outputs": [],
   "source": [
    "QSOs = pd.read_csv(\"data/SDSS_QSO.dat\", sep = \"\\s+\", index_col = \"SDSS\")\n",
    "QSOs.head()"
   ]
  },
  {
   "cell_type": "code",
   "execution_count": null,
   "id": "d988dcf3",
   "metadata": {
    "ExecuteTime": {
     "end_time": "2023-05-08T19:46:02.783877Z",
     "start_time": "2023-05-08T19:46:02.756930Z"
    }
   },
   "outputs": [],
   "source": [
    "stars[\"cat\"] = \"star\"\n",
    "stars[\"ug\"] = stars.u_mag - stars.g_mag\n",
    "stars[\"gr\"] = stars.g_mag - stars.r_mag\n",
    "stars[\"ri\"] = stars.r_mag - stars.i_mag\n",
    "stars[\"iz\"] = stars.i_mag - stars.z_mag\n",
    "QSOs[\"cat\"] = \"QSO\"\n",
    "QSOs[\"ug\"] = QSOs.u_mag - QSOs.g_mag\n",
    "QSOs[\"gr\"] = QSOs.g_mag - QSOs.r_mag\n",
    "QSOs[\"ri\"] = QSOs.r_mag - QSOs.i_mag\n",
    "QSOs[\"iz\"] = QSOs.i_mag - QSOs.z_mag"
   ]
  },
  {
   "cell_type": "code",
   "execution_count": null,
   "id": "ad0eaa31",
   "metadata": {
    "ExecuteTime": {
     "end_time": "2023-05-08T19:46:08.082498Z",
     "start_time": "2023-05-08T19:46:08.047829Z"
    }
   },
   "outputs": [],
   "source": [
    "sel_cols = [\"ug\", \"gr\", \"ri\", \"iz\", \"cat\"]\n",
    "data = pd.concat([stars[sel_cols], QSOs[sel_cols].sample(5000, random_state=1)])\n",
    "#data = pd.concat([stars[sel_cols], QSOs[sel_cols]])\n",
    "data[\"cat\"] = data[\"cat\"].astype(\"category\")\n",
    "data.sample(10)"
   ]
  },
  {
   "cell_type": "code",
   "execution_count": null,
   "id": "336ba074",
   "metadata": {
    "ExecuteTime": {
     "end_time": "2023-05-08T19:46:19.144462Z",
     "start_time": "2023-05-08T19:46:12.523960Z"
    }
   },
   "outputs": [],
   "source": [
    "sn.pairplot(data, hue='cat', plot_kws={\"s\": 3, 'marker': '.'})"
   ]
  },
  {
   "cell_type": "code",
   "execution_count": null,
   "id": "af80b874",
   "metadata": {
    "ExecuteTime": {
     "end_time": "2023-05-08T19:46:58.033792Z",
     "start_time": "2023-05-08T19:46:58.021678Z"
    }
   },
   "outputs": [],
   "source": [
    "X_train, X_test, y_train, y_test = train_test_split(data[[\"ug\", \"gr\", \"ri\", \"iz\"]], data.cat, test_size=.4, random_state=42)"
   ]
  },
  {
   "cell_type": "code",
   "execution_count": null,
   "id": "2d2688ab",
   "metadata": {
    "ExecuteTime": {
     "end_time": "2023-05-08T19:47:00.956983Z",
     "start_time": "2023-05-08T19:47:00.949177Z"
    }
   },
   "outputs": [],
   "source": [
    "from sklearn import preprocessing\n",
    "le = preprocessing.LabelEncoder()\n",
    "le.fit(data.cat)\n",
    "print(le.classes_)\n",
    "y_train = le.transform(y_train)\n",
    "y_test = le.transform(y_test)"
   ]
  },
  {
   "cell_type": "code",
   "execution_count": null,
   "id": "bde30da6",
   "metadata": {
    "ExecuteTime": {
     "end_time": "2023-05-08T19:47:02.905532Z",
     "start_time": "2023-05-08T19:47:02.901410Z"
    }
   },
   "outputs": [],
   "source": [
    "from sklearn.model_selection import train_test_split\n",
    "from sklearn import metrics"
   ]
  },
  {
   "cell_type": "code",
   "execution_count": null,
   "id": "4b348d21",
   "metadata": {
    "ExecuteTime": {
     "end_time": "2023-05-08T19:47:16.432602Z",
     "start_time": "2023-05-08T19:47:10.440466Z"
    }
   },
   "outputs": [],
   "source": [
    "from sklearn.ensemble import RandomForestClassifier\n",
    "rfc = RandomForestClassifier(criterion='entropy', n_estimators=1000, oob_score=True, n_jobs=4)#, class_weight='balanced')\n",
    "y_pred = rfc.fit(X_train, y_train).predict(X_test)\n",
    "print(\"Out-of-bag score:\", rfc.oob_score_)\n",
    "print(\"Accuracy:\", metrics.accuracy_score(y_test, y_pred))\n",
    "print(\"f1-score:\", metrics.f1_score(y_test, y_pred, pos_label=1))\n",
    "print(\"Feature importance:\", dict(zip(list(X_train), rfc.feature_importances_)))"
   ]
  },
  {
   "cell_type": "code",
   "execution_count": null,
   "id": "fa3494ff",
   "metadata": {
    "ExecuteTime": {
     "end_time": "2023-05-08T19:47:53.698114Z",
     "start_time": "2023-05-08T19:47:53.408313Z"
    }
   },
   "outputs": [],
   "source": [
    "fig, ax = plt.subplots()\n",
    "ax.bar(list(X_train), rfc.feature_importances_)\n",
    "ax.set_ylabel(\"Feature importance\")"
   ]
  },
  {
   "cell_type": "markdown",
   "id": "2d833cb3",
   "metadata": {},
   "source": [
    "### Initialize SHAP explainer object"
   ]
  },
  {
   "cell_type": "code",
   "execution_count": null,
   "id": "fd19a474",
   "metadata": {
    "ExecuteTime": {
     "end_time": "2023-05-08T19:48:05.534421Z",
     "start_time": "2023-05-08T19:48:05.396809Z"
    }
   },
   "outputs": [],
   "source": [
    "explainer = shap.Explainer(rfc)"
   ]
  },
  {
   "cell_type": "code",
   "execution_count": null,
   "id": "ac08570a",
   "metadata": {
    "ExecuteTime": {
     "end_time": "2023-05-08T19:48:17.305882Z",
     "start_time": "2023-05-08T19:48:17.271630Z"
    }
   },
   "outputs": [],
   "source": [
    "instance = X_test.loc[[0]]\n",
    "shap_values = explainer.shap_values(instance)"
   ]
  },
  {
   "cell_type": "code",
   "execution_count": null,
   "id": "e9b38640",
   "metadata": {
    "ExecuteTime": {
     "end_time": "2023-05-08T19:48:18.137610Z",
     "start_time": "2023-05-08T19:48:18.130299Z"
    }
   },
   "outputs": [],
   "source": [
    "instance.values"
   ]
  },
  {
   "cell_type": "code",
   "execution_count": null,
   "id": "c9cd8d87",
   "metadata": {
    "ExecuteTime": {
     "end_time": "2023-05-08T19:48:22.584940Z",
     "start_time": "2023-05-08T19:48:22.394306Z"
    }
   },
   "outputs": [],
   "source": [
    "rfc.predict_proba(instance.values)"
   ]
  },
  {
   "cell_type": "code",
   "execution_count": null,
   "id": "77324b13",
   "metadata": {
    "ExecuteTime": {
     "end_time": "2023-05-08T19:49:11.363108Z",
     "start_time": "2023-05-08T19:49:11.356092Z"
    }
   },
   "outputs": [],
   "source": [
    "explainer.expected_value"
   ]
  },
  {
   "cell_type": "code",
   "execution_count": null,
   "id": "8051d588",
   "metadata": {
    "ExecuteTime": {
     "end_time": "2023-05-08T19:49:13.730232Z",
     "start_time": "2023-05-08T19:49:13.725161Z"
    }
   },
   "outputs": [],
   "source": [
    "shap_values"
   ]
  },
  {
   "cell_type": "code",
   "execution_count": null,
   "id": "bff1ccdd",
   "metadata": {
    "ExecuteTime": {
     "end_time": "2023-05-08T19:49:25.443616Z",
     "start_time": "2023-05-08T19:49:25.436761Z"
    }
   },
   "outputs": [],
   "source": [
    "shap.force_plot(explainer.expected_value[0], shap_values[0], instance)"
   ]
  },
  {
   "cell_type": "code",
   "execution_count": null,
   "id": "43cf7c51",
   "metadata": {
    "ExecuteTime": {
     "end_time": "2023-05-08T19:50:10.259202Z",
     "start_time": "2023-05-08T19:50:10.253936Z"
    }
   },
   "outputs": [],
   "source": [
    "shap.force_plot(explainer.expected_value[1], shap_values[1], instance)"
   ]
  },
  {
   "cell_type": "markdown",
   "id": "016f0956",
   "metadata": {},
   "source": [
    "### Get the values for the full sample"
   ]
  },
  {
   "cell_type": "code",
   "execution_count": null,
   "id": "fd54a13f",
   "metadata": {
    "ExecuteTime": {
     "end_time": "2023-05-08T19:50:57.755784Z",
     "start_time": "2023-05-08T19:50:20.566987Z"
    }
   },
   "outputs": [],
   "source": [
    "shap_values_test = explainer(X_test) #.shap_values"
   ]
  },
  {
   "cell_type": "code",
   "execution_count": null,
   "id": "50644770",
   "metadata": {
    "ExecuteTime": {
     "end_time": "2023-05-08T19:51:11.386196Z",
     "start_time": "2023-05-08T19:51:11.380896Z"
    }
   },
   "outputs": [],
   "source": [
    "shap_values_test.values.shape"
   ]
  },
  {
   "cell_type": "markdown",
   "id": "1739d925",
   "metadata": {},
   "source": [
    "### Bar summary plot"
   ]
  },
  {
   "cell_type": "code",
   "execution_count": null,
   "id": "e96f9eb4",
   "metadata": {
    "ExecuteTime": {
     "end_time": "2023-05-08T19:51:31.406759Z",
     "start_time": "2023-05-08T19:51:31.220499Z"
    }
   },
   "outputs": [],
   "source": [
    "shap.summary_plot([shap_values_test.values[:, :, 0], shap_values_test.values[:, :, 1]], X_test)"
   ]
  },
  {
   "cell_type": "markdown",
   "id": "bab8d9ce",
   "metadata": {},
   "source": [
    "### Beeswarm plot"
   ]
  },
  {
   "cell_type": "markdown",
   "id": "7bc8e78c",
   "metadata": {},
   "source": [
    "Class 0"
   ]
  },
  {
   "cell_type": "code",
   "execution_count": null,
   "id": "d2310f49",
   "metadata": {
    "ExecuteTime": {
     "end_time": "2023-05-08T19:52:29.066349Z",
     "start_time": "2023-05-08T19:52:28.857141Z"
    }
   },
   "outputs": [],
   "source": [
    "shap.plots.beeswarm(shap.Explanation(shap_values_test.values[:, :, 0], base_values=shap_values_test.base_values, feature_names=X_test.columns))"
   ]
  },
  {
   "cell_type": "markdown",
   "id": "50a35876",
   "metadata": {},
   "source": [
    "Class 1"
   ]
  },
  {
   "cell_type": "code",
   "execution_count": null,
   "id": "4802a228",
   "metadata": {
    "ExecuteTime": {
     "end_time": "2023-05-08T19:52:50.148879Z",
     "start_time": "2023-05-08T19:52:49.890137Z"
    }
   },
   "outputs": [],
   "source": [
    "shap.plots.beeswarm(shap.Explanation(shap_values_test.values[:, :, 1], base_values=shap_values_test.base_values, feature_names=X_test.columns))"
   ]
  },
  {
   "cell_type": "markdown",
   "id": "fba1d9cb",
   "metadata": {},
   "source": [
    "### Compare feature importance and SHAP values"
   ]
  },
  {
   "cell_type": "code",
   "execution_count": null,
   "id": "bd0d4c2b",
   "metadata": {
    "ExecuteTime": {
     "end_time": "2023-05-08T19:52:58.311462Z",
     "start_time": "2023-05-08T19:52:58.270899Z"
    }
   },
   "outputs": [],
   "source": [
    "shap_values_test[:, :, 0].abs.mean(0)"
   ]
  },
  {
   "cell_type": "code",
   "execution_count": null,
   "id": "4dcda044",
   "metadata": {
    "ExecuteTime": {
     "end_time": "2023-05-08T19:53:16.656406Z",
     "start_time": "2023-05-08T19:53:16.302801Z"
    }
   },
   "outputs": [],
   "source": [
    "fig, ax = plt.subplots()\n",
    "ax.scatter(rfc.feature_importances_, shap_values_test[:, :, 0].abs.mean(0).values + shap_values_test[:, :, 1].abs.mean(0).values)\n",
    "ax.plot([0, 1], [0, 1], c='r')\n",
    "ax.set_xlabel(\"Random forest feature importance\")\n",
    "ax.set_ylabel(\"SHAP values\")"
   ]
  },
  {
   "cell_type": "code",
   "execution_count": null,
   "id": "0c605b57",
   "metadata": {},
   "outputs": [],
   "source": []
  }
 ],
 "metadata": {
  "kernelspec": {
   "display_name": "Python 3",
   "language": "python",
   "name": "python3"
  },
  "language_info": {
   "codemirror_mode": {
    "name": "ipython",
    "version": 3
   },
   "file_extension": ".py",
   "mimetype": "text/x-python",
   "name": "python",
   "nbconvert_exporter": "python",
   "pygments_lexer": "ipython3",
   "version": "3.8.8"
  },
  "toc": {
   "base_numbering": 1,
   "nav_menu": {},
   "number_sections": true,
   "sideBar": true,
   "skip_h1_title": false,
   "title_cell": "Table of Contents",
   "title_sidebar": "Contents",
   "toc_cell": false,
   "toc_position": {},
   "toc_section_display": true,
   "toc_window_display": true
  },
  "varInspector": {
   "cols": {
    "lenName": 16,
    "lenType": 16,
    "lenVar": 40
   },
   "kernels_config": {
    "python": {
     "delete_cmd_postfix": "",
     "delete_cmd_prefix": "del ",
     "library": "var_list.py",
     "varRefreshCmd": "print(var_dic_list())"
    },
    "r": {
     "delete_cmd_postfix": ") ",
     "delete_cmd_prefix": "rm(",
     "library": "var_list.r",
     "varRefreshCmd": "cat(var_dic_list()) "
    }
   },
   "types_to_exclude": [
    "module",
    "function",
    "builtin_function_or_method",
    "instance",
    "_Feature"
   ],
   "window_display": false
  }
 },
 "nbformat": 4,
 "nbformat_minor": 5
}
